{
 "cells": [
  {
   "cell_type": "markdown",
   "metadata": {
    "colab_type": "text",
    "id": "view-in-github"
   },
   "source": [
    "<a href=\"https://colab.research.google.com/github/g-gemini/gemini-notebooks/blob/main/toxicity_detection_app.ipynb\" target=\"_parent\"><img src=\"https://colab.research.google.com/assets/colab-badge.svg\" alt=\"Open In Colab\"/></a>"
   ]
  },
  {
   "cell_type": "markdown",
   "metadata": {
    "id": "jUP-WdEwE74L"
   },
   "source": [
    "# Project: Deep Learning for Comment Toxicity Detection with Streamlit\n",
    "\n",
    "This notebook contains the complete end-to-end process for building and deploying a comment toxicity detection application. It follows the structured approach outlined in the project description.\n",
    "\n",
    "**Project Steps:**\n",
    "1.  **Setup & Data Extraction**: Import libraries and extract the training/testing data from the provided text file.\n",
    "2.  **Step 1: Data Exploration and Preparation**: Load, clean, and preprocess the comment data.\n",
    "3.  **Step 2: Model Development**: Build, train, and evaluate a Deep Learning (LSTM) model for multi-label toxicity classification.\n",
    "4.  **Step 3: Streamlit Application Development**: Write the complete code for the interactive web application to an `app.py` file and launch it."
   ]
  },
  {
   "cell_type": "markdown",
   "metadata": {
    "id": "iY-T-gW_FFrz"
   },
   "source": [
    "## 1. Setup & Data Extraction\n",
    "\n",
    "First, we install and import all the necessary libraries. We will also extract the CSV data embedded within the file and save it into `train.csv` and `test.csv` for use in our project."
   ]
  },
  {
   "cell_type": "code",
   "execution_count": null,
   "metadata": {
    "id": "Pz4L1R4jFPrA"
   },
   "outputs": [
    {
     "name": "stderr",
     "output_type": "stream",
     "text": [
      "[nltk_data] Downloading package stopwords to\n",
      "[nltk_data]     C:\\Users\\ajsty\\AppData\\Roaming\\nltk_data...\n",
      "[nltk_data]   Unzipping corpora\\stopwords.zip.\n"
     ]
    },
    {
     "data": {
      "text/plain": [
       "True"
      ]
     },
     "execution_count": 4,
     "metadata": {},
     "output_type": "execute_result"
    }
   ],
   "source": [
    "\n",
    "\n",
    "import pandas as pd\n",
    "import re\n",
    "import nltk\n",
    "import pickle\n",
    "from nltk.corpus import stopwords\n",
    "from tensorflow.keras.preprocessing.text import Tokenizer\n",
    "from keras.preprocessing.text import Tokenizer\n",
    "from keras.preprocessing.sequence import pad_sequences\n",
    "from tensorflow.keras.preprocessing.sequence import pad_sequences\n",
    "from tensorflow.keras.models import Sequential\n",
    "from tensorflow.keras.layers import Embedding, LSTM, Dense, SpatialDropout1D\n",
    "from tensorflow.keras.callbacks import EarlyStopping\n",
    "\n",
    "\n",
    "import matplotlib.pyplot as plt\n",
    "import seaborn as sns\n",
    "\n",
    "# Download NLTK stopwords\n",
    "nltk.download('stopwords')"
   ]
  },
  {
   "cell_type": "markdown",
   "metadata": {
    "id": "5YJpP2hDFk6x"
   },
   "source": [
    "## 2. Step 1: Data Exploration and Preparation\n",
    "\n",
    "We load the `train.csv` data, explore the distribution of toxicity labels, and define a function to preprocess the comment text by cleaning, removing stopwords, and preparing it for the model."
   ]
  },
  {
   "cell_type": "code",
   "execution_count": 5,
   "metadata": {
    "id": "e_zYF4HAFo9b"
   },
   "outputs": [
    {
     "name": "stdout",
     "output_type": "stream",
     "text": [
      "Training Data Shape: (159571, 8)\n",
      "\n",
      "Training Data Info:\n",
      "<class 'pandas.core.frame.DataFrame'>\n",
      "RangeIndex: 159571 entries, 0 to 159570\n",
      "Data columns (total 8 columns):\n",
      " #   Column         Non-Null Count   Dtype \n",
      "---  ------         --------------   ----- \n",
      " 0   id             159571 non-null  object\n",
      " 1   comment_text   159571 non-null  object\n",
      " 2   toxic          159571 non-null  int64 \n",
      " 3   severe_toxic   159571 non-null  int64 \n",
      " 4   obscene        159571 non-null  int64 \n",
      " 5   threat         159571 non-null  int64 \n",
      " 6   insult         159571 non-null  int64 \n",
      " 7   identity_hate  159571 non-null  int64 \n",
      "dtypes: int64(6), object(2)\n",
      "memory usage: 9.7+ MB\n",
      "\n",
      "First 5 rows of Training Data:\n"
     ]
    },
    {
     "data": {
      "text/html": [
       "<div>\n",
       "<style scoped>\n",
       "    .dataframe tbody tr th:only-of-type {\n",
       "        vertical-align: middle;\n",
       "    }\n",
       "\n",
       "    .dataframe tbody tr th {\n",
       "        vertical-align: top;\n",
       "    }\n",
       "\n",
       "    .dataframe thead th {\n",
       "        text-align: right;\n",
       "    }\n",
       "</style>\n",
       "<table border=\"1\" class=\"dataframe\">\n",
       "  <thead>\n",
       "    <tr style=\"text-align: right;\">\n",
       "      <th></th>\n",
       "      <th>id</th>\n",
       "      <th>comment_text</th>\n",
       "      <th>toxic</th>\n",
       "      <th>severe_toxic</th>\n",
       "      <th>obscene</th>\n",
       "      <th>threat</th>\n",
       "      <th>insult</th>\n",
       "      <th>identity_hate</th>\n",
       "    </tr>\n",
       "  </thead>\n",
       "  <tbody>\n",
       "    <tr>\n",
       "      <th>0</th>\n",
       "      <td>0000997932d777bf</td>\n",
       "      <td>Explanation\\nWhy the edits made under my usern...</td>\n",
       "      <td>0</td>\n",
       "      <td>0</td>\n",
       "      <td>0</td>\n",
       "      <td>0</td>\n",
       "      <td>0</td>\n",
       "      <td>0</td>\n",
       "    </tr>\n",
       "    <tr>\n",
       "      <th>1</th>\n",
       "      <td>000103f0d9cfb60f</td>\n",
       "      <td>D'aww! He matches this background colour I'm s...</td>\n",
       "      <td>0</td>\n",
       "      <td>0</td>\n",
       "      <td>0</td>\n",
       "      <td>0</td>\n",
       "      <td>0</td>\n",
       "      <td>0</td>\n",
       "    </tr>\n",
       "    <tr>\n",
       "      <th>2</th>\n",
       "      <td>000113f07ec002fd</td>\n",
       "      <td>Hey man, I'm really not trying to edit war. It...</td>\n",
       "      <td>0</td>\n",
       "      <td>0</td>\n",
       "      <td>0</td>\n",
       "      <td>0</td>\n",
       "      <td>0</td>\n",
       "      <td>0</td>\n",
       "    </tr>\n",
       "    <tr>\n",
       "      <th>3</th>\n",
       "      <td>0001b41b1c6bb37e</td>\n",
       "      <td>\"\\nMore\\nI can't make any real suggestions on ...</td>\n",
       "      <td>0</td>\n",
       "      <td>0</td>\n",
       "      <td>0</td>\n",
       "      <td>0</td>\n",
       "      <td>0</td>\n",
       "      <td>0</td>\n",
       "    </tr>\n",
       "    <tr>\n",
       "      <th>4</th>\n",
       "      <td>0001d958c54c6e35</td>\n",
       "      <td>You, sir, are my hero. Any chance you remember...</td>\n",
       "      <td>0</td>\n",
       "      <td>0</td>\n",
       "      <td>0</td>\n",
       "      <td>0</td>\n",
       "      <td>0</td>\n",
       "      <td>0</td>\n",
       "    </tr>\n",
       "  </tbody>\n",
       "</table>\n",
       "</div>"
      ],
      "text/plain": [
       "                 id                                       comment_text  toxic  \\\n",
       "0  0000997932d777bf  Explanation\\nWhy the edits made under my usern...      0   \n",
       "1  000103f0d9cfb60f  D'aww! He matches this background colour I'm s...      0   \n",
       "2  000113f07ec002fd  Hey man, I'm really not trying to edit war. It...      0   \n",
       "3  0001b41b1c6bb37e  \"\\nMore\\nI can't make any real suggestions on ...      0   \n",
       "4  0001d958c54c6e35  You, sir, are my hero. Any chance you remember...      0   \n",
       "\n",
       "   severe_toxic  obscene  threat  insult  identity_hate  \n",
       "0             0        0       0       0              0  \n",
       "1             0        0       0       0              0  \n",
       "2             0        0       0       0              0  \n",
       "3             0        0       0       0              0  \n",
       "4             0        0       0       0              0  "
      ]
     },
     "execution_count": 5,
     "metadata": {},
     "output_type": "execute_result"
    }
   ],
   "source": [
    "df_train = pd.read_csv('train.csv')\n",
    "\n",
    "print(\"Training Data Shape:\", df_train.shape)\n",
    "print(\"\\nTraining Data Info:\")\n",
    "df_train.info()\n",
    "print(\"\\nFirst 5 rows of Training Data:\")\n",
    "df_train.head()"
   ]
  },
  {
   "cell_type": "code",
   "execution_count": 6,
   "metadata": {
    "id": "J1GgRk_OF-7h"
   },
   "outputs": [
    {
     "name": "stderr",
     "output_type": "stream",
     "text": [
      "C:\\Users\\ajsty\\AppData\\Local\\Temp\\ipykernel_23632\\987663729.py:6: FutureWarning: \n",
      "\n",
      "Passing `palette` without assigning `hue` is deprecated and will be removed in v0.14.0. Assign the `x` variable to `hue` and set `legend=False` for the same effect.\n",
      "\n",
      "  sns.barplot(x=label_counts.index, y=label_counts.values, palette='viridis')\n"
     ]
    },
    {
     "data": {
      "image/png": "[encoded data removed]",
      "text/plain": [
       "<Figure size 1000x600 with 1 Axes>"
      ]
     },
     "metadata": {},
     "output_type": "display_data"
    }
   ],
   "source": [
    "# Explore the distribution of labels\n",
    "label_cols = ['toxic', 'severe_toxic', 'obscene', 'threat', 'insult', 'identity_hate']\n",
    "label_counts = df_train[label_cols].sum()\n",
    "\n",
    "plt.figure(figsize=(10, 6))\n",
    "sns.barplot(x=label_counts.index, y=label_counts.values, palette='viridis')\n",
    "plt.title('Distribution of Toxicity Labels in Training Data')\n",
    "plt.ylabel('Number of Comments')\n",
    "plt.xlabel('Toxicity Type')\n",
    "plt.show()"
   ]
  },
  {
   "cell_type": "code",
   "execution_count": 7,
   "metadata": {
    "id": "aFp9r9j0GP0x"
   },
   "outputs": [],
   "source": [
    "def preprocess_text(text):\n",
    "    \"\"\"Cleans and preprocesses text data.\"\"\"\n",
    "    # Ensure text is a string\n",
    "    text = str(text)\n",
    "    # Remove non-alphabetic characters and convert to lower case\n",
    "    text = re.sub('[^a-zA-Z]', ' ', text).lower()\n",
    "    # Tokenize and remove stopwords\n",
    "    words = text.split()\n",
    "    stop_words = set(stopwords.words('english'))\n",
    "    words = [w for w in words if not w in stop_words]\n",
    "    return ' '.join(words)\n",
    "\n",
    "# Apply preprocessing to the comment text\n",
    "df_train['clean_comment'] = df_train['comment_text'].apply(preprocess_text)"
   ]
  },
  {
   "cell_type": "markdown",
   "metadata": {
    "id": "QzQhMvQeGVx1"
   },
   "source": [
    "## 3. Step 2: Model Development\n",
    "\n",
    "Here, we vectorize the text data using Keras's `Tokenizer`, define our LSTM model architecture, compile it, and train it on our preprocessed data."
   ]
  },
  {
   "cell_type": "code",
   "execution_count": 8,
   "metadata": {
    "id": "y-uJ9i2OGYw1"
   },
   "outputs": [
    {
     "name": "stdout",
     "output_type": "stream",
     "text": [
      "Shape of data tensor: (159571, 250)\n",
      "Shape of label tensor: (159571, 6)\n"
     ]
    }
   ],
   "source": [
    "# Model parameters\n",
    "MAX_NB_WORDS = 50000  # Max number of words in vocabulary\n",
    "MAX_SEQUENCE_LENGTH = 250  # Max length of a sequence\n",
    "EMBEDDING_DIM = 100    # Dimension of the embedding vector\n",
    "\n",
    "# Vectorize the text data\n",
    "tokenizer = Tokenizer(num_words=MAX_NB_WORDS, filters='!\"#$%&()*+,-./:;<=>?@[\\\\]^_`{|}~',\n",
    "                    lower=True)\n",
    "tokenizer.fit_on_texts(df_train['clean_comment'].values)\n",
    "X = tokenizer.texts_to_sequences(df_train['clean_comment'].values)\n",
    "X = pad_sequences(X, maxlen=MAX_SEQUENCE_LENGTH)\n",
    "\n",
    "# Define target variables\n",
    "Y = df_train[label_cols].values\n",
    "\n",
    "print('Shape of data tensor:', X.shape)\n",
    "print('Shape of label tensor:', Y.shape)"
   ]
  },
  {
   "cell_type": "code",
   "execution_count": 9,
   "metadata": {
    "id": "Kq0Ld72yGlU4"
   },
   "outputs": [
    {
     "name": "stderr",
     "output_type": "stream",
     "text": [
      "c:\\Users\\ajsty\\OneDrive - MSFT\\Documents\\Learn\\Python\\venv\\Lib\\site-packages\\keras\\src\\layers\\core\\embedding.py:97: UserWarning: Argument `input_length` is deprecated. Just remove it.\n",
      "  warnings.warn(\n"
     ]
    },
    {
     "data": {
      "text/html": [
       "<pre style=\"white-space:pre;overflow-x:auto;line-height:normal;font-family:Menlo,'DejaVu Sans Mono',consolas,'Courier New',monospace\"><span style=\"font-weight: bold\">Model: \"sequential\"</span>\n",
       "</pre>\n"
      ],
      "text/plain": [
       "\u001b[1mModel: \"sequential\"\u001b[0m\n"
      ]
     },
     "metadata": {},
     "output_type": "display_data"
    },
    {
     "data": {
      "text/html": [
       "<pre style=\"white-space:pre;overflow-x:auto;line-height:normal;font-family:Menlo,'DejaVu Sans Mono',consolas,'Courier New',monospace\">┏━━━━━━━━━━━━━━━━━━━━━━━━━━━━━━━━━┳━━━━━━━━━━━━━━━━━━━━━━━━┳━━━━━━━━━━━━━━━┓\n",
       "┃<span style=\"font-weight: bold\"> Layer (type)                    </span>┃<span style=\"font-weight: bold\"> Output Shape           </span>┃<span style=\"font-weight: bold\">       Param # </span>┃\n",
       "┡━━━━━━━━━━━━━━━━━━━━━━━━━━━━━━━━━╇━━━━━━━━━━━━━━━━━━━━━━━━╇━━━━━━━━━━━━━━━┩\n",
       "│ embedding (<span style=\"color: #0087ff; text-decoration-color: #0087ff\">Embedding</span>)           │ ?                      │   <span style=\"color: #00af00; text-decoration-color: #00af00\">0</span> (unbuilt) │\n",
       "├─────────────────────────────────┼────────────────────────┼───────────────┤\n",
       "│ spatial_dropout1d               │ ?                      │             <span style=\"color: #00af00; text-decoration-color: #00af00\">0</span> │\n",
       "│ (<span style=\"color: #0087ff; text-decoration-color: #0087ff\">SpatialDropout1D</span>)              │                        │               │\n",
       "├─────────────────────────────────┼────────────────────────┼───────────────┤\n",
       "│ lstm (<span style=\"color: #0087ff; text-decoration-color: #0087ff\">LSTM</span>)                     │ ?                      │   <span style=\"color: #00af00; text-decoration-color: #00af00\">0</span> (unbuilt) │\n",
       "├─────────────────────────────────┼────────────────────────┼───────────────┤\n",
       "│ dense (<span style=\"color: #0087ff; text-decoration-color: #0087ff\">Dense</span>)                   │ ?                      │   <span style=\"color: #00af00; text-decoration-color: #00af00\">0</span> (unbuilt) │\n",
       "└─────────────────────────────────┴────────────────────────┴───────────────┘\n",
       "</pre>\n"
      ],
      "text/plain": [
       "┏━━━━━━━━━━━━━━━━━━━━━━━━━━━━━━━━━┳━━━━━━━━━━━━━━━━━━━━━━━━┳━━━━━━━━━━━━━━━┓\n",
       "┃\u001b[1m \u001b[0m\u001b[1mLayer (type)                   \u001b[0m\u001b[1m \u001b[0m┃\u001b[1m \u001b[0m\u001b[1mOutput Shape          \u001b[0m\u001b[1m \u001b[0m┃\u001b[1m \u001b[0m\u001b[1m      Param #\u001b[0m\u001b[1m \u001b[0m┃\n",
       "┡━━━━━━━━━━━━━━━━━━━━━━━━━━━━━━━━━╇━━━━━━━━━━━━━━━━━━━━━━━━╇━━━━━━━━━━━━━━━┩\n",
       "│ embedding (\u001b[38;5;33mEmbedding\u001b[0m)           │ ?                      │   \u001b[38;5;34m0\u001b[0m (unbuilt) │\n",
       "├─────────────────────────────────┼────────────────────────┼───────────────┤\n",
       "│ spatial_dropout1d               │ ?                      │             \u001b[38;5;34m0\u001b[0m │\n",
       "│ (\u001b[38;5;33mSpatialDropout1D\u001b[0m)              │                        │               │\n",
       "├─────────────────────────────────┼────────────────────────┼───────────────┤\n",
       "│ lstm (\u001b[38;5;33mLSTM\u001b[0m)                     │ ?                      │   \u001b[38;5;34m0\u001b[0m (unbuilt) │\n",
       "├─────────────────────────────────┼────────────────────────┼───────────────┤\n",
       "│ dense (\u001b[38;5;33mDense\u001b[0m)                   │ ?                      │   \u001b[38;5;34m0\u001b[0m (unbuilt) │\n",
       "└─────────────────────────────────┴────────────────────────┴───────────────┘\n"
      ]
     },
     "metadata": {},
     "output_type": "display_data"
    },
    {
     "data": {
      "text/html": [
       "<pre style=\"white-space:pre;overflow-x:auto;line-height:normal;font-family:Menlo,'DejaVu Sans Mono',consolas,'Courier New',monospace\"><span style=\"font-weight: bold\"> Total params: </span><span style=\"color: #00af00; text-decoration-color: #00af00\">0</span> (0.00 B)\n",
       "</pre>\n"
      ],
      "text/plain": [
       "\u001b[1m Total params: \u001b[0m\u001b[38;5;34m0\u001b[0m (0.00 B)\n"
      ]
     },
     "metadata": {},
     "output_type": "display_data"
    },
    {
     "data": {
      "text/html": [
       "<pre style=\"white-space:pre;overflow-x:auto;line-height:normal;font-family:Menlo,'DejaVu Sans Mono',consolas,'Courier New',monospace\"><span style=\"font-weight: bold\"> Trainable params: </span><span style=\"color: #00af00; text-decoration-color: #00af00\">0</span> (0.00 B)\n",
       "</pre>\n"
      ],
      "text/plain": [
       "\u001b[1m Trainable params: \u001b[0m\u001b[38;5;34m0\u001b[0m (0.00 B)\n"
      ]
     },
     "metadata": {},
     "output_type": "display_data"
    },
    {
     "data": {
      "text/html": [
       "<pre style=\"white-space:pre;overflow-x:auto;line-height:normal;font-family:Menlo,'DejaVu Sans Mono',consolas,'Courier New',monospace\"><span style=\"font-weight: bold\"> Non-trainable params: </span><span style=\"color: #00af00; text-decoration-color: #00af00\">0</span> (0.00 B)\n",
       "</pre>\n"
      ],
      "text/plain": [
       "\u001b[1m Non-trainable params: \u001b[0m\u001b[38;5;34m0\u001b[0m (0.00 B)\n"
      ]
     },
     "metadata": {},
     "output_type": "display_data"
    }
   ],
   "source": [
    "# Build the LSTM Model\n",
    "model = Sequential()\n",
    "model.add(Embedding(MAX_NB_WORDS, EMBEDDING_DIM, input_length=X.shape[1]))\n",
    "model.add(SpatialDropout1D(0.2))\n",
    "model.add(LSTM(100, dropout=0.2, recurrent_dropout=0.2))\n",
    "model.add(Dense(6, activation='sigmoid')) # 6 labels, sigmoid for multi-label classification\n",
    "\n",
    "# Compile the model\n",
    "model.compile(loss='binary_crossentropy',\n",
    "              optimizer='adam',\n",
    "              metrics=['accuracy'])\n",
    "\n",
    "model.summary()"
   ]
  },
  {
   "cell_type": "code",
   "execution_count": null,
   "metadata": {
    "id": "z915yW7rGqv7"
   },
   "outputs": [
    {
     "name": "stdout",
     "output_type": "stream",
     "text": [
      "Epoch 1/5\n",
      "\u001b[1m2244/2244\u001b[0m \u001b[32m━━━━━━━━━━━━━━━━━━━━\u001b[0m\u001b[37m\u001b[0m \u001b[1m598s\u001b[0m 265ms/step - accuracy: 0.9798 - loss: 0.0687 - val_accuracy: 0.9940 - val_loss: 0.0519\n",
      "Epoch 2/5\n",
      "\u001b[1m2244/2244\u001b[0m \u001b[32m━━━━━━━━━━━━━━━━━━━━\u001b[0m\u001b[37m\u001b[0m \u001b[1m1227s\u001b[0m 547ms/step - accuracy: 0.9941 - loss: 0.0445 - val_accuracy: 0.9939 - val_loss: 0.0496\n",
      "Epoch 3/5\n",
      "\u001b[1m 967/2244\u001b[0m \u001b[32m━━━━━━━━\u001b[0m\u001b[37m━━━━━━━━━━━━\u001b[0m \u001b[1m5:54\u001b[0m 278ms/step - accuracy: 0.9941 - loss: 0.0376"
     ]
    }
   ],
   "source": [
    "# Train the model\n",
    "epochs = 5\n",
    "batch_size = 64\n",
    "\n",
    "history = model.fit(X, Y,\n",
    "                    epochs=epochs,\n",
    "                    batch_size=batch_size,\n",
    "                    validation_split=0.1,\n",
    "                    callbacks=[EarlyStopping(monitor='val_loss', patience=3, min_delta=0.0001)])"
   ]
  },
  {
   "cell_type": "code",
   "execution_count": null,
   "metadata": {
    "id": "K1o93c7zGwwX"
   },
   "outputs": [],
   "source": [
    "# Plot training history (for the Streamlit app)\n",
    "history_df = pd.DataFrame(history.history)\n",
    "history_df.loc[:, ['loss', 'val_loss']].plot(title='Loss Curve')\n",
    "plt.savefig('loss_curve.png')\n",
    "history_df.loc[:, ['accuracy', 'val_accuracy']].plot(title='Accuracy Curve')\n",
    "plt.savefig('accuracy_curve.png')\n",
    "\n",
    "print(\"Model performance charts saved as 'loss_curve.png' and 'accuracy_curve.png'.\")"
   ]
  },
  {
   "cell_type": "code",
   "execution_count": null,
   "metadata": {
    "id": "fWv8lC6dG06Z"
   },
   "outputs": [],
   "source": [
    "# Save the trained model and tokenizer for the Streamlit app\n",
    "model.save('toxicity_model.h5')\n",
    "\n",
    "with open('tokenizer.pickle', 'wb') as handle:\n",
    "    pickle.dump(tokenizer, handle, protocol=pickle.HIGHEST_PROTOCOL)\n",
    "\n",
    "print(\"Model and tokenizer have been saved.\")"
   ]
  },
  {
   "cell_type": "markdown",
   "metadata": {
    "id": "oYl83k3YG3a_"
   },
   "source": [
    "## 4. Step 3: Streamlit Application Development\n",
    "\n",
    "This cell contains the full Python code for our Streamlit application. The `%%writefile app.py` command at the top writes the contents of this cell to a file named `app.py`. We can then run this file using Streamlit."
   ]
  },
  {
   "cell_type": "code",
   "execution_count": null,
   "metadata": {
    "id": "d7kYfT8NG58q"
   },
   "outputs": [],
   "source": [
    "%%writefile app.py\n",
    "import streamlit as st\n",
    "import pandas as pd\n",
    "import re\n",
    "import pickle\n",
    "import nltk\n",
    "from nltk.corpus import stopwords\n",
    "import tensorflow as tf\n",
    "from tensorflow.keras.preprocessing.sequence import pad_sequences\n",
    "from tensorflow.keras.models import load_model\n",
    "\n",
    "# --- Page Configuration ---\n",
    "st.set_page_config(\n",
    "    page_title=\"Comment Toxicity Detection\",\n",
    "    page_icon=\"🛡️\",\n",
    "    layout=\"wide\"\n",
    ")\n",
    "\n",
    "# --- Load Model and Tokenizer (Cached) ---\n",
    "@st.cache_resource\n",
    "def load_assets():\n",
    "    \"\"\"Loads the pre-trained model and tokenizer.\"\"\"\n",
    "    try:\n",
    "        model = load_model('toxicity_model.h5')\n",
    "        with open('tokenizer.pickle', 'rb') as handle:\n",
    "            tokenizer = pickle.load(handle)\n",
    "        # Download stopwords if not already present\n",
    "        try:\n",
    "            stopwords.words('english')\n",
    "        except LookupError:\n",
    "            nltk.download('stopwords')\n",
    "        return model, tokenizer\n",
    "    except Exception as e:\n",
    "        st.error(f\"Error loading assets: {e}\")\n",
    "        st.error(\"Please make sure 'toxicity_model.h5' and 'tokenizer.pickle' are in the same directory as app.py.\")\n",
    "        return None, None\n",
    "\n",
    "model, tokenizer = load_assets()\n",
    "MAX_SEQUENCE_LENGTH = 250\n",
    "LABEL_COLS = ['toxic', 'severe_toxic', 'obscene', 'threat', 'insult', 'identity_hate']\n",
    "\n",
    "# --- Preprocessing Function ---\n",
    "def preprocess_text(text):\n",
    "    \"\"\"Cleans and preprocesses text data for prediction.\"\"\"\n",
    "    text = str(text)\n",
    "    text = re.sub('[^a-zA-Z]', ' ', text).lower()\n",
    "    words = text.split()\n",
    "    stop_words = set(stopwords.words('english'))\n",
    "    words = [w for w in words if not w in stop_words]\n",
    "    return ' '.join(words)\n",
    "\n",
    "# --- Prediction Function ---\n",
    "def predict_toxicity(texts):\n",
    "    \"\"\"Predicts toxicity for a list of texts.\"\"\"\n",
    "    if model is None or tokenizer is None:\n",
    "        return None\n",
    "    processed_texts = [preprocess_text(t) for t in texts]\n",
    "    sequences = tokenizer.texts_to_sequences(processed_texts)\n",
    "    padded_sequences = pad_sequences(sequences, maxlen=MAX_SEQUENCE_LENGTH)\n",
    "    predictions = model.predict(padded_sequences)\n",
    "    return predictions\n",
    "\n",
    "# --- UI Components ---\n",
    "\n",
    "def render_prediction_interface(use_case_description):\n",
    "    st.markdown(f\"**Use Case:** {use_case_description}\")\n",
    "    st.write(\"This tool can be integrated into platforms to automatically flag harmful comments, reducing moderator workload and fostering a safer online environment.\")\n",
    "    st.divider()\n",
    "\n",
    "    # Single Comment Prediction\n",
    "    st.subheader(\"Real-Time Single Comment Analysis\")\n",
    "    user_input = st.text_area(\"Enter a comment to analyze:\", \"\", height=100, key=f\"text_area_{st.session_state.page}\")\n",
    "    if st.button(\"Analyze Comment\", key=f\"button_{st.session_state.page}\"):\n",
    "        if user_input:\n",
    "            with st.spinner('Analyzing...'):\n",
    "                prediction = predict_toxicity([user_input])\n",
    "                if prediction is not None:\n",
    "                    st.write(\"**Toxicity Analysis Results:**\")\n",
    "                    results_df = pd.DataFrame(prediction, columns=LABEL_COLS)\n",
    "                    for label in LABEL_COLS:\n",
    "                        probability = results_df[label][0]\n",
    "                        st.write(f\"**{label.replace('_', ' ').title()}**\")\n",
    "                        st.progress(probability)\n",
    "                        st.write(f\"{probability:.2%}\")\n",
    "        else:\n",
    "            st.warning(\"Please enter a comment to analyze.\")\n",
    "\n",
    "    st.divider()\n",
    "\n",
    "    # Bulk Prediction\n",
    "    st.subheader(\"Bulk Comment Analysis via CSV Upload\")\n",
    "    uploaded_file = st.file_uploader(\"Upload a CSV file with a 'comment_text' column\", type=[\"csv\"], key=f\"uploader_{st.session_state.page}\")\n",
    "    if uploaded_file is not None:\n",
    "        try:\n",
    "            df_bulk = pd.read_csv(uploaded_file)\n",
    "            if 'comment_text' not in df_bulk.columns:\n",
    "                st.error(\"The uploaded CSV must contain a column named 'comment_text'.\")\n",
    "            else:\n",
    "                st.write(\"**Uploaded Data Preview:**\")\n",
    "                st.dataframe(df_bulk.head())\n",
    "                if st.button(\"Run Bulk Analysis\", key=f\"bulk_button_{st.session_state.page}\"):\n",
    "                    with st.spinner('Processing bulk data... This may take a while.'):\n",
    "                        predictions = predict_toxicity(df_bulk['comment_text'].tolist())\n",
    "                        if predictions is not None:\n",
    "                            pred_df = pd.DataFrame(predictions, columns=LABEL_COLS)\n",
    "                            result_df = pd.concat([df_bulk, pred_df], axis=1)\n",
    "                            st.success(\"Analysis Complete!\")\n",
    "                            st.dataframe(result_df)\n",
    "\n",
    "                            # Provide download link\n",
    "                            csv = result_df.to_csv(index=False).encode('utf-8')\n",
    "                            st.download_button(\n",
    "                                label=\"Download Results as CSV\",\n",
    "                                data=csv,\n",
    "                                file_name='toxicity_analysis_results.csv',\n",
    "                                mime='text/csv',\n",
    "                            )\n",
    "        except Exception as e:\n",
    "            st.error(f\"An error occurred while processing the file: {e}\")\n",
    "\n",
    "# --- Main Application ---\n",
    "st.title(\"🛡️ Deep Learning for Comment Toxicity Detection\")\n",
    "\n",
    "if model is None or tokenizer is None:\n",
    "    st.stop()\n",
    "\n",
    "# --- Sidebar Navigation ---\n",
    "st.sidebar.title(\"Navigation\")\n",
    "page = st.sidebar.radio(\"Go to\", [\n",
    "    \"Project Overview\",\n",
    "    \"Social Media Platforms\",\n",
    "    \"Online Forums & Communities\",\n",
    "    \"Content Moderation Services\",\n",
    "    \"Brand Safety & Reputation\",\n",
    "    \"E-learning Platforms\",\n",
    "    \"News Websites & Media\"\n",
    "])\n",
    "st.session_state.page = page # To manage unique keys for widgets\n",
    "\n",
    "# --- Page Content ---\n",
    "if page == \"Project Overview\":\n",
    "    st.header(\"Project Overview\")\n",
    "    st.markdown(\"\"\"\n",
    "    **Problem Statement:** Online communities face significant challenges from toxic comments, including harassment and hate speech. This project aims to develop an automated system using deep learning to detect and flag toxic comments in real-time, helping to maintain healthy online discourse.\n",
    "    \n",
    "    **Approach:**\n",
    "    1.  **Data Preparation**: Cleaned and preprocessed a dataset of online comments.\n",
    "    2.  **Model Development**: Trained a Long Short-Term Memory (LSTM) deep learning model to perform multi-label classification on six categories of toxicity.\n",
    "    3.  **Application**: Built this interactive Streamlit web app for real-time and bulk comment analysis.\n",
    "    \"\"\")\n",
    "    \n",
    "    st.subheader(\"Model Performance\")\n",
    "    col1, col2 = st.columns(2)\n",
    "    with col1:\n",
    "        st.image('loss_curve.png', caption='Model Loss over Epochs')\n",
    "    with col2:\n",
    "        st.image('accuracy_curve.png', caption='Model Accuracy over Epochs')\n",
    "\n",
    "elif page == \"Social Media Platforms\":\n",
    "    st.header(\"Use Case: Social Media Platforms\")\n",
    "    render_prediction_interface(\"Automatically detect and filter toxic comments in real-time to protect users from harassment and abuse.\")\n",
    "\n",
    "elif page == \"Online Forums & Communities\":\n",
    "    st.header(\"Use Case: Online Forums & Communities\")\n",
    "    render_prediction_interface(\"Integrate toxicity detection to efficiently moderate user-generated content and maintain a constructive community atmosphere.\")\n",
    "\n",
    "elif page == \"Content Moderation Services\":\n",
    "    st.header(\"Use Case: Content Moderation Services\")\n",
    "    render_prediction_interface(\"Leverage this model to enhance moderation capabilities, providing a scalable solution for clients' platforms.\")\n",
    "\n",
    "elif page == \"Brand Safety & Reputation\":\n",
    "    st.header(\"Use Case: Brand Safety & Reputation Management\")\n",
    "    render_prediction_interface(\"Ensure that advertisements and sponsored content appear in safe, brand-appropriate online environments by scanning comment sections.\")\n",
    "\n",
    "elif page == \"E-learning Platforms\":\n",
    "    st.header(\"Use Case: E-learning Platforms & Educational Websites\")\n",
    "    render_prediction_interface(\"Create safer online learning environments by moderating discussion boards and chat features for students and educators.\")\n",
    "\n",
    "elif page == \"News Websites & Media\":\n",
    "    st.header(\"Use Case: News Websites & Media Outlets\")\n",
    "    render_prediction_interface(\"Utilize toxicity detection to moderate user comments on articles and posts, ensuring discussions remain relevant and civil.\")"
   ]
  },
  {
   "cell_type": "markdown",
   "metadata": {
    "id": "J1lS7YlqG-a-"
   },
   "source": [
    "## 5. Launch the Streamlit Application\n",
    "\n",
    "Running the cell below will start the Streamlit server. You will see a message with two URLs (Network and External). Open the **External URL** in your browser to interact with the application."
   ]
  }
 ],
 "metadata": {
  "colab": {
   "provenance": []
  },
  "kernelspec": {
   "display_name": "venv",
   "language": "python",
   "name": "python3"
  },
  "language_info": {
   "codemirror_mode": {
    "name": "ipython",
    "version": 3
   },
   "file_extension": ".py",
   "mimetype": "text/x-python",
   "name": "python",
   "nbconvert_exporter": "python",
   "pygments_lexer": "ipython3",
   "version": "3.13.3"
  }
 },
 "nbformat": 4,
 "nbformat_minor": 0
}
